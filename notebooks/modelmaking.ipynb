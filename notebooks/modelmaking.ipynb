{
 "cells": [
  {
   "cell_type": "code",
   "execution_count": 47,
   "metadata": {},
   "outputs": [],
   "source": [
    "import numpy as np\n",
    "import  pandas as pd\n",
    "import matplotlib.pyplot as plt\n",
    "%matplotlib inline\n",
    "import cv2\n",
    "import mnist\n",
    "from keras.models import Sequential\n",
    "from keras.layers import Dense,Dropout, Activation,Flatten\n",
    "from keras.optimizers import Adam\n",
    "from keras.layers.normalization import BatchNormalization\n",
    "from keras.utils import np_utils\n",
    "from keras.layers import Conv2D, MaxPooling2D, ZeroPadding2D, GlobalAveragePooling2D\n",
    "from keras.preprocessing.image import ImageDataGenerator\n"
   ]
  },
  {
   "cell_type": "code",
   "execution_count": 48,
   "metadata": {},
   "outputs": [
    {
     "name": "stdout",
     "output_type": "stream",
     "text": [
      "(251, 45, 45, 1)\n",
      "[0 0 0 0 0 0 0 0 0 0 0 0 0 0 0 0 0 0 0 0 0 0 0 0 0 0 0 0 0 0 0 0 0 0 0 0 0\n",
      " 0 0 0 0 0 0 0 0 0 0 0 0 0 0 0 0 0 0 0 0 0 1 1 1 1 1 1 1 1 1 1 1 1 1 1 1 1\n",
      " 1 1 1 1 1 1 2 2 2 2 2 2 2 2 2 2 2 2 2 2 2 2 2 2 2 3 3 3 3 3 3 3 3 3 3 3 3\n",
      " 3 3 3 3 3 3 3 3 3 3 3 4 4 4 4 4 4 4 4 4 4 4 4 4 4 4 4 4 4 4 4 4 4 4 4 4 4\n",
      " 5 5 5 5 5 5 5 5 5 5 5 5 5 5 5 5 5 5 5 5 5 6 6 6 6 6 6 6 6 6 6 6 6 6 6 6 6\n",
      " 6 6 6 6 6 7 7 7 7 7 7 7 7 7 7 7 7 7 7 7 7 7 7 7 7 7 7 7 8 8 8 8 8 8 8 8 8\n",
      " 8 8 8 8 8 8 8 8 8 8 9 9 9 9 9 9 9 9 9 9 9 9 9 9 9 9 9 9 9]\n"
     ]
    }
   ],
   "source": [
    "import os\n",
    "import numpy as np\n",
    "from PIL import Image\n",
    "import pickle\n",
    "import cv2\n",
    "import matplotlib.pyplot as plt\n",
    "\n",
    "BASE_DIR= os.path.dirname(os.path.abspath(\"file\")) \n",
    "image_dir=os.path.join(BASE_DIR,\"image\") \n",
    "recognizer= cv2.face.LBPHFaceRecognizer_create()\n",
    "current_id=0\n",
    "label_id={}\n",
    "y_labels=[]\n",
    "x_train=[]\n",
    "for root,dirs,files in os.walk(image_dir):\n",
    "    for file in files:\n",
    "        if file.endswith(\"png\"):\n",
    "            path=os.path.join(root,file)\n",
    "            label=os.path.basename(os.path.dirname(path)).replace(\" \",\"_\").lower()\n",
    "        \n",
    "#             print(label,path)\n",
    "            \n",
    "            if label in label_id:\n",
    "                pass\n",
    "            else:\n",
    "                label_id[label]=current_id\n",
    "                current_id+=1\n",
    "            id_=label_id[label]  \n",
    "#             print(label_id)\n",
    "#           y_labels.append(label)\n",
    "#           x_train.append(path)\n",
    "            pil_image=Image.open(path).convert(\"L\")#gray\n",
    "            image=cv2.resize(np.uint8(pil_image),(45,45),interpolation=cv2.INTER_AREA)\n",
    "            \n",
    "#             plt.imshow(image)\n",
    "#             plt.show()\n",
    "            image_array=image.reshape(45,45,1)\n",
    "#             image_array=np.reshape(image_array,(4096,))\n",
    "#             print(image_array)\n",
    "            x_train.append(image_array)\n",
    "            y_labels.append(id_)\n",
    "#             plt.imshow(image_array[:,:,0])\n",
    "#             plt.show()\n",
    "            \n",
    "#print(y_labels)\n",
    "# x_train=np.array(x_train)\n",
    "x_train=np.array(x_train)\n",
    "y_labels_orig=np.array(y_labels).reshape(len(y_labels))\n",
    "print(x_train.shape)\n",
    "print(y_labels_orig)\n",
    "\n",
    "with open(\"labels.pickle\",\"wb\")as f:\n",
    "    pickle.dump(label_id,f)"
   ]
  },
  {
   "cell_type": "code",
   "execution_count": 49,
   "metadata": {},
   "outputs": [],
   "source": [
    "number_of_classes = 10\n",
    "Y_train = np_utils.to_categorical(y_labels_orig,number_of_classes)"
   ]
  },
  {
   "cell_type": "code",
   "execution_count": 50,
   "metadata": {},
   "outputs": [],
   "source": [
    "X_train = x_train.astype('float32')\n",
    "\n",
    "\n",
    "X_train/=255"
   ]
  },
  {
   "cell_type": "code",
   "execution_count": 51,
   "metadata": {},
   "outputs": [
    {
     "data": {
      "text/plain": [
       "(251, 45, 45, 1)"
      ]
     },
     "execution_count": 51,
     "metadata": {},
     "output_type": "execute_result"
    }
   ],
   "source": [
    "X_train.shape"
   ]
  },
  {
   "cell_type": "code",
   "execution_count": 52,
   "metadata": {},
   "outputs": [
    {
     "data": {
      "text/plain": [
       "(251, 10)"
      ]
     },
     "execution_count": 52,
     "metadata": {},
     "output_type": "execute_result"
    }
   ],
   "source": [
    "Y_train.shape"
   ]
  },
  {
   "cell_type": "code",
   "execution_count": 2,
   "metadata": {},
   "outputs": [],
   "source": [
    "# X1,y1,X2,y2=mnist.load()"
   ]
  },
  {
   "cell_type": "code",
   "execution_count": 3,
   "metadata": {},
   "outputs": [],
   "source": [
    "# X1=X1.reshape(60000,28,28)\n",
    "# X2=X2.reshape(10000,28,28)\n",
    "# y_test=y2.reshape(-1,1)\n",
    "# y_train=y1.reshape(-1,1)\n",
    "\n",
    "# X_train=np.zeros((60000,45,45))\n",
    "# for i in range(np.shape(X1)[0]):\n",
    "#     X_train[i]=cv2.resize(X1[i], (45,45), interpolation = cv2.INTER_CUBIC)\n",
    "    \n",
    "# X_test=np.zeros((10000,45,45))\n",
    "# for i in range(np.shape(X2)[0]):\n",
    "#     X_test[i]=cv2.resize(X2[i], (45,45), interpolation = cv2.INTER_CUBIC)\n",
    "# X_train=X_train.reshape(-1,45,45,1)  \n",
    " \n",
    "# X_test=X_test.reshape(-1,45,45,1)  \n",
    "# X_train = X_train.astype('float32')\n",
    "# X_test = X_test.astype('float32')\n",
    "\n",
    "# X_train/=255\n",
    "# X_test/=255\n",
    "# number_of_classes = 10\n",
    "# Y_train = np_utils.to_categorical(y_train,number_of_classes)\n",
    "# Y_test = np_utils.to_categorical(y_test,number_of_classes)"
   ]
  },
  {
   "cell_type": "code",
   "execution_count": 53,
   "metadata": {},
   "outputs": [],
   "source": [
    "model = Sequential()\n",
    "\n",
    "model.add(Conv2D(32, (3, 3), input_shape=(45,45,1)))\n",
    "model.add(Activation('relu'))\n",
    "BatchNormalization(axis=-1)\n",
    "model.add(Conv2D(32, (3, 3)))\n",
    "model.add(Activation('relu'))\n",
    "model.add(MaxPooling2D(pool_size=(2,2)))\n",
    "\n",
    "BatchNormalization(axis=-1)\n",
    "model.add(Conv2D(64,(3, 3)))\n",
    "model.add(Activation('relu'))\n",
    "BatchNormalization(axis=-1)\n",
    "model.add(Conv2D(64, (3, 3)))\n",
    "model.add(Activation('relu'))\n",
    "model.add(MaxPooling2D(pool_size=(2,2)))\n",
    "\n",
    "model.add(Flatten())\n",
    "# Fully connected layer\n",
    "\n",
    "BatchNormalization()\n",
    "model.add(Dense(512))\n",
    "model.add(Activation('relu'))\n",
    "BatchNormalization()\n",
    "model.add(Dropout(0.2))\n",
    "model.add(Dense(10))\n",
    "\n",
    "# model.add(Convolution2D(10,3,3, border_mode='same'))\n",
    "# model.add(GlobalAveragePooling2D())\n",
    "model.add(Activation('softmax'))\n"
   ]
  },
  {
   "cell_type": "code",
   "execution_count": 54,
   "metadata": {},
   "outputs": [],
   "source": [
    "model.compile(loss='categorical_crossentropy', optimizer=Adam(), metrics=['accuracy'])\n"
   ]
  },
  {
   "cell_type": "code",
   "execution_count": 55,
   "metadata": {},
   "outputs": [],
   "source": [
    "gen = ImageDataGenerator(rotation_range=8, width_shift_range=0.08, shear_range=0.3,\n",
    "                         height_shift_range=0.08, zoom_range=0.08)\n",
    "\n",
    "test_gen = ImageDataGenerator()\n"
   ]
  },
  {
   "cell_type": "code",
   "execution_count": 61,
   "metadata": {},
   "outputs": [],
   "source": [
    "from sklearn.model_selection import train_test_split\n",
    "train_x,test_x,train_y,test_y=train_test_split(X_train,Y_train,test_size=0.45)"
   ]
  },
  {
   "cell_type": "code",
   "execution_count": 62,
   "metadata": {},
   "outputs": [],
   "source": [
    "train_generator = gen.flow(train_x, train_y, batch_size=10)\n",
    "test_generator = test_gen.flow(test_x, test_y, batch_size=10)\n"
   ]
  },
  {
   "cell_type": "code",
   "execution_count": 63,
   "metadata": {},
   "outputs": [
    {
     "name": "stdout",
     "output_type": "stream",
     "text": [
      "Epoch 1/100\n",
      "15/15 [==============================] - 1s 65ms/step - loss: 0.4640 - accuracy: 0.9054 - val_loss: 0.1215 - val_accuracy: 0.9545\n",
      "Epoch 2/100\n",
      "15/15 [==============================] - 1s 72ms/step - loss: 0.3964 - accuracy: 0.8649 - val_loss: 0.2902 - val_accuracy: 0.9000\n",
      "Epoch 3/100\n",
      "15/15 [==============================] - 1s 66ms/step - loss: 0.3740 - accuracy: 0.8851 - val_loss: 0.1371 - val_accuracy: 0.9545\n",
      "Epoch 4/100\n",
      "15/15 [==============================] - 1s 68ms/step - loss: 0.1257 - accuracy: 0.9730 - val_loss: 0.1576 - val_accuracy: 0.9636\n",
      "Epoch 5/100\n",
      "15/15 [==============================] - 1s 66ms/step - loss: 0.2289 - accuracy: 0.9324 - val_loss: 0.1727 - val_accuracy: 0.9545\n",
      "Epoch 6/100\n",
      "15/15 [==============================] - 1s 67ms/step - loss: 0.0909 - accuracy: 0.9662 - val_loss: 0.1573 - val_accuracy: 0.9636\n",
      "Epoch 7/100\n",
      "15/15 [==============================] - 1s 72ms/step - loss: 0.1149 - accuracy: 0.9595 - val_loss: 0.1345 - val_accuracy: 0.9727\n",
      "Epoch 8/100\n",
      "15/15 [==============================] - 1s 68ms/step - loss: 0.1391 - accuracy: 0.9527 - val_loss: 0.1408 - val_accuracy: 0.9545\n",
      "Epoch 9/100\n",
      "15/15 [==============================] - 1s 67ms/step - loss: 0.0290 - accuracy: 0.9932 - val_loss: 0.1616 - val_accuracy: 0.9727\n",
      "Epoch 10/100\n",
      "15/15 [==============================] - 1s 66ms/step - loss: 0.0429 - accuracy: 0.9865 - val_loss: 0.1785 - val_accuracy: 0.9545\n",
      "Epoch 11/100\n",
      "15/15 [==============================] - 1s 67ms/step - loss: 0.1526 - accuracy: 0.9527 - val_loss: 0.2163 - val_accuracy: 0.9545\n",
      "Epoch 12/100\n",
      "15/15 [==============================] - 1s 67ms/step - loss: 0.0236 - accuracy: 1.0000 - val_loss: 0.4138 - val_accuracy: 0.9273\n",
      "Epoch 13/100\n",
      "15/15 [==============================] - 1s 67ms/step - loss: 0.0419 - accuracy: 0.9865 - val_loss: 0.2208 - val_accuracy: 0.9636\n",
      "Epoch 14/100\n",
      "15/15 [==============================] - 1s 67ms/step - loss: 0.0750 - accuracy: 0.9795 - val_loss: 0.4264 - val_accuracy: 0.9182\n",
      "Epoch 15/100\n",
      "15/15 [==============================] - 1s 67ms/step - loss: 0.0563 - accuracy: 0.9797 - val_loss: 0.2630 - val_accuracy: 0.9455\n",
      "Epoch 16/100\n",
      "15/15 [==============================] - 1s 67ms/step - loss: 0.0357 - accuracy: 0.9865 - val_loss: 0.2284 - val_accuracy: 0.9545\n",
      "Epoch 17/100\n",
      "15/15 [==============================] - 1s 68ms/step - loss: 0.0949 - accuracy: 0.9730 - val_loss: 0.1834 - val_accuracy: 0.9545\n",
      "Epoch 18/100\n",
      "15/15 [==============================] - 1s 67ms/step - loss: 0.0749 - accuracy: 0.9730 - val_loss: 0.1871 - val_accuracy: 0.9455\n",
      "Epoch 19/100\n",
      "15/15 [==============================] - 1s 68ms/step - loss: 0.0354 - accuracy: 0.9932 - val_loss: 0.1800 - val_accuracy: 0.9636\n",
      "Epoch 20/100\n",
      "15/15 [==============================] - 1s 68ms/step - loss: 0.0131 - accuracy: 0.9932 - val_loss: 0.2668 - val_accuracy: 0.9182\n",
      "Epoch 21/100\n",
      "15/15 [==============================] - 1s 78ms/step - loss: 0.1104 - accuracy: 0.9730 - val_loss: 0.1669 - val_accuracy: 0.9545\n",
      "Epoch 22/100\n",
      "15/15 [==============================] - 1s 69ms/step - loss: 0.0632 - accuracy: 0.9797 - val_loss: 0.3305 - val_accuracy: 0.9182\n",
      "Epoch 23/100\n",
      "15/15 [==============================] - 1s 66ms/step - loss: 0.0435 - accuracy: 0.9865 - val_loss: 0.2200 - val_accuracy: 0.9455\n",
      "Epoch 24/100\n",
      "15/15 [==============================] - 1s 70ms/step - loss: 0.0443 - accuracy: 0.9865 - val_loss: 0.3202 - val_accuracy: 0.9273\n",
      "Epoch 25/100\n",
      "15/15 [==============================] - 1s 75ms/step - loss: 0.0938 - accuracy: 0.9797 - val_loss: 0.2379 - val_accuracy: 0.9455\n",
      "Epoch 26/100\n",
      "15/15 [==============================] - 1s 83ms/step - loss: 0.0665 - accuracy: 0.9797 - val_loss: 0.1585 - val_accuracy: 0.9455\n",
      "Epoch 27/100\n",
      "15/15 [==============================] - 1s 71ms/step - loss: 0.0182 - accuracy: 0.9932 - val_loss: 0.1865 - val_accuracy: 0.9545\n",
      "Epoch 28/100\n",
      "15/15 [==============================] - 1s 70ms/step - loss: 0.0563 - accuracy: 0.9795 - val_loss: 0.1924 - val_accuracy: 0.9545\n",
      "Epoch 29/100\n",
      "15/15 [==============================] - 1s 71ms/step - loss: 0.0374 - accuracy: 0.9865 - val_loss: 0.3156 - val_accuracy: 0.9273\n",
      "Epoch 30/100\n",
      "15/15 [==============================] - 1s 70ms/step - loss: 0.0492 - accuracy: 0.9865 - val_loss: 0.2479 - val_accuracy: 0.9364\n",
      "Epoch 31/100\n",
      "15/15 [==============================] - 1s 74ms/step - loss: 0.0340 - accuracy: 0.9865 - val_loss: 0.1919 - val_accuracy: 0.9455\n",
      "Epoch 32/100\n",
      "15/15 [==============================] - 1s 71ms/step - loss: 0.0263 - accuracy: 0.9932 - val_loss: 0.2076 - val_accuracy: 0.9455\n",
      "Epoch 33/100\n",
      "15/15 [==============================] - 1s 71ms/step - loss: 0.0842 - accuracy: 0.9662 - val_loss: 0.2146 - val_accuracy: 0.9545\n",
      "Epoch 34/100\n",
      "15/15 [==============================] - 1s 78ms/step - loss: 0.0307 - accuracy: 0.9932 - val_loss: 0.2534 - val_accuracy: 0.9364\n",
      "Epoch 35/100\n",
      "15/15 [==============================] - 1s 72ms/step - loss: 0.0265 - accuracy: 0.9932 - val_loss: 0.1940 - val_accuracy: 0.9455\n",
      "Epoch 36/100\n",
      "15/15 [==============================] - 1s 71ms/step - loss: 0.0213 - accuracy: 0.9865 - val_loss: 0.1963 - val_accuracy: 0.9455\n",
      "Epoch 37/100\n",
      "15/15 [==============================] - 1s 81ms/step - loss: 0.0234 - accuracy: 0.9932 - val_loss: 0.2008 - val_accuracy: 0.9545\n",
      "Epoch 38/100\n",
      "15/15 [==============================] - 1s 70ms/step - loss: 0.0439 - accuracy: 0.9932 - val_loss: 0.2093 - val_accuracy: 0.9455\n",
      "Epoch 39/100\n",
      "15/15 [==============================] - 1s 69ms/step - loss: 0.0073 - accuracy: 1.0000 - val_loss: 0.1992 - val_accuracy: 0.9455\n",
      "Epoch 40/100\n",
      "15/15 [==============================] - 1s 73ms/step - loss: 0.0344 - accuracy: 0.9865 - val_loss: 0.1905 - val_accuracy: 0.9636\n",
      "Epoch 41/100\n",
      "15/15 [==============================] - 1s 70ms/step - loss: 0.0478 - accuracy: 0.9865 - val_loss: 0.2698 - val_accuracy: 0.9455\n",
      "Epoch 42/100\n",
      "15/15 [==============================] - 1s 71ms/step - loss: 0.0395 - accuracy: 0.9795 - val_loss: 0.2046 - val_accuracy: 0.9455\n",
      "Epoch 43/100\n",
      "15/15 [==============================] - 1s 69ms/step - loss: 0.0651 - accuracy: 0.9865 - val_loss: 0.1592 - val_accuracy: 0.9545\n",
      "Epoch 44/100\n",
      "15/15 [==============================] - 1s 69ms/step - loss: 0.0130 - accuracy: 1.0000 - val_loss: 0.1863 - val_accuracy: 0.9455\n",
      "Epoch 45/100\n",
      "15/15 [==============================] - 1s 70ms/step - loss: 0.0128 - accuracy: 0.9932 - val_loss: 0.2051 - val_accuracy: 0.9636\n",
      "Epoch 46/100\n",
      "15/15 [==============================] - 1s 70ms/step - loss: 0.0473 - accuracy: 0.9865 - val_loss: 0.2287 - val_accuracy: 0.9545\n",
      "Epoch 47/100\n",
      "15/15 [==============================] - 1s 70ms/step - loss: 0.0252 - accuracy: 0.9932 - val_loss: 0.2189 - val_accuracy: 0.9455\n",
      "Epoch 48/100\n",
      "15/15 [==============================] - 1s 70ms/step - loss: 0.0338 - accuracy: 0.9797 - val_loss: 0.1634 - val_accuracy: 0.9636\n",
      "Epoch 49/100\n",
      "15/15 [==============================] - 1s 69ms/step - loss: 0.0164 - accuracy: 0.9932 - val_loss: 0.1626 - val_accuracy: 0.9727\n",
      "Epoch 50/100\n",
      "15/15 [==============================] - 1s 72ms/step - loss: 0.0141 - accuracy: 0.9865 - val_loss: 0.2035 - val_accuracy: 0.9636\n",
      "Epoch 51/100\n",
      "15/15 [==============================] - 1s 69ms/step - loss: 0.0045 - accuracy: 1.0000 - val_loss: 0.2013 - val_accuracy: 0.9636\n",
      "Epoch 52/100\n",
      "15/15 [==============================] - 1s 69ms/step - loss: 0.0077 - accuracy: 1.0000 - val_loss: 0.1654 - val_accuracy: 0.9636\n",
      "Epoch 53/100\n",
      "15/15 [==============================] - 1s 70ms/step - loss: 0.0368 - accuracy: 0.9865 - val_loss: 0.2313 - val_accuracy: 0.9545\n",
      "Epoch 54/100\n",
      "15/15 [==============================] - 1s 71ms/step - loss: 0.0038 - accuracy: 1.0000 - val_loss: 0.2763 - val_accuracy: 0.9455\n",
      "Epoch 55/100\n",
      "15/15 [==============================] - 1s 71ms/step - loss: 0.0028 - accuracy: 1.0000 - val_loss: 0.2566 - val_accuracy: 0.9545\n",
      "Epoch 56/100\n",
      "15/15 [==============================] - 1s 71ms/step - loss: 0.0057 - accuracy: 1.0000 - val_loss: 0.2466 - val_accuracy: 0.9545\n",
      "Epoch 57/100\n",
      "15/15 [==============================] - 1s 71ms/step - loss: 0.0371 - accuracy: 0.9932 - val_loss: 0.2382 - val_accuracy: 0.9455\n",
      "Epoch 58/100\n",
      "15/15 [==============================] - 1s 69ms/step - loss: 0.0052 - accuracy: 1.0000 - val_loss: 0.3254 - val_accuracy: 0.9364\n",
      "Epoch 59/100\n",
      "15/15 [==============================] - 1s 67ms/step - loss: 0.0056 - accuracy: 1.0000 - val_loss: 0.2834 - val_accuracy: 0.9364\n",
      "Epoch 60/100\n",
      "15/15 [==============================] - 1s 68ms/step - loss: 0.0074 - accuracy: 1.0000 - val_loss: 0.3028 - val_accuracy: 0.9455\n",
      "Epoch 61/100\n",
      "15/15 [==============================] - 1s 68ms/step - loss: 0.0054 - accuracy: 1.0000 - val_loss: 0.2470 - val_accuracy: 0.9545\n",
      "Epoch 62/100\n",
      "15/15 [==============================] - 1s 66ms/step - loss: 0.0073 - accuracy: 0.9932 - val_loss: 0.2624 - val_accuracy: 0.9545\n",
      "Epoch 63/100\n",
      "15/15 [==============================] - 1s 68ms/step - loss: 6.3619e-04 - accuracy: 1.0000 - val_loss: 0.2618 - val_accuracy: 0.9545\n",
      "Epoch 64/100\n",
      "15/15 [==============================] - 1s 68ms/step - loss: 0.0314 - accuracy: 0.9932 - val_loss: 0.2898 - val_accuracy: 0.9545\n",
      "Epoch 65/100\n",
      "15/15 [==============================] - 1s 68ms/step - loss: 0.0062 - accuracy: 1.0000 - val_loss: 0.2892 - val_accuracy: 0.9545\n",
      "Epoch 66/100\n",
      "15/15 [==============================] - 1s 67ms/step - loss: 0.0114 - accuracy: 0.9932 - val_loss: 0.5407 - val_accuracy: 0.9182\n",
      "Epoch 67/100\n",
      "15/15 [==============================] - 1s 68ms/step - loss: 0.0136 - accuracy: 1.0000 - val_loss: 0.4377 - val_accuracy: 0.9455\n",
      "Epoch 68/100\n",
      "15/15 [==============================] - 1s 69ms/step - loss: 0.0158 - accuracy: 0.9932 - val_loss: 0.4357 - val_accuracy: 0.9455\n",
      "Epoch 69/100\n",
      "15/15 [==============================] - 1s 69ms/step - loss: 0.0011 - accuracy: 1.0000 - val_loss: 0.4310 - val_accuracy: 0.9455\n",
      "Epoch 70/100\n",
      "15/15 [==============================] - 1s 69ms/step - loss: 0.0012 - accuracy: 1.0000 - val_loss: 0.3959 - val_accuracy: 0.9636\n",
      "Epoch 71/100\n",
      "15/15 [==============================] - 1s 69ms/step - loss: 0.0107 - accuracy: 0.9932 - val_loss: 0.3605 - val_accuracy: 0.9545\n",
      "Epoch 72/100\n",
      "15/15 [==============================] - 1s 69ms/step - loss: 0.0026 - accuracy: 1.0000 - val_loss: 0.3117 - val_accuracy: 0.9545\n",
      "Epoch 73/100\n",
      "15/15 [==============================] - 1s 69ms/step - loss: 0.0446 - accuracy: 0.9797 - val_loss: 0.1787 - val_accuracy: 0.9636\n",
      "Epoch 74/100\n",
      "15/15 [==============================] - 1s 71ms/step - loss: 0.0059 - accuracy: 1.0000 - val_loss: 0.3320 - val_accuracy: 0.9545\n",
      "Epoch 75/100\n",
      "15/15 [==============================] - 1s 80ms/step - loss: 0.0056 - accuracy: 1.0000 - val_loss: 0.2862 - val_accuracy: 0.9545\n",
      "Epoch 76/100\n",
      "15/15 [==============================] - 1s 72ms/step - loss: 0.1131 - accuracy: 0.9797 - val_loss: 0.1755 - val_accuracy: 0.9727\n",
      "Epoch 77/100\n",
      "15/15 [==============================] - 1s 73ms/step - loss: 0.0450 - accuracy: 0.9797 - val_loss: 0.1487 - val_accuracy: 0.9455\n",
      "Epoch 78/100\n",
      "15/15 [==============================] - 1s 73ms/step - loss: 0.0309 - accuracy: 0.9932 - val_loss: 0.3534 - val_accuracy: 0.8909\n",
      "Epoch 79/100\n",
      "15/15 [==============================] - 1s 71ms/step - loss: 0.0347 - accuracy: 0.9932 - val_loss: 0.2631 - val_accuracy: 0.9364\n",
      "Epoch 80/100\n",
      "15/15 [==============================] - 1s 74ms/step - loss: 0.0063 - accuracy: 1.0000 - val_loss: 0.1345 - val_accuracy: 0.9636\n",
      "Epoch 81/100\n",
      "15/15 [==============================] - 1s 71ms/step - loss: 0.0481 - accuracy: 0.9865 - val_loss: 0.2337 - val_accuracy: 0.9545\n",
      "Epoch 82/100\n",
      "15/15 [==============================] - 1s 74ms/step - loss: 0.0102 - accuracy: 1.0000 - val_loss: 0.1222 - val_accuracy: 0.9636\n",
      "Epoch 83/100\n",
      "15/15 [==============================] - 1s 71ms/step - loss: 0.0555 - accuracy: 0.9730 - val_loss: 0.3988 - val_accuracy: 0.9091\n",
      "Epoch 84/100\n",
      "15/15 [==============================] - 1s 76ms/step - loss: 0.0082 - accuracy: 1.0000 - val_loss: 0.6240 - val_accuracy: 0.8909\n",
      "Epoch 85/100\n",
      "15/15 [==============================] - 1s 69ms/step - loss: 0.0171 - accuracy: 0.9932 - val_loss: 0.4929 - val_accuracy: 0.9091\n",
      "Epoch 86/100\n",
      "15/15 [==============================] - 1s 75ms/step - loss: 0.0266 - accuracy: 0.9865 - val_loss: 0.2333 - val_accuracy: 0.9455\n",
      "Epoch 87/100\n",
      "15/15 [==============================] - 1s 74ms/step - loss: 0.0142 - accuracy: 0.9932 - val_loss: 0.2522 - val_accuracy: 0.9273\n",
      "Epoch 88/100\n",
      "15/15 [==============================] - 1s 69ms/step - loss: 0.0356 - accuracy: 0.9865 - val_loss: 0.2390 - val_accuracy: 0.9455\n",
      "Epoch 89/100\n",
      "15/15 [==============================] - 1s 71ms/step - loss: 0.0014 - accuracy: 1.0000 - val_loss: 0.2629 - val_accuracy: 0.9455\n",
      "Epoch 90/100\n",
      "15/15 [==============================] - 1s 74ms/step - loss: 0.0025 - accuracy: 1.0000 - val_loss: 0.2714 - val_accuracy: 0.9364\n",
      "Epoch 91/100\n",
      "15/15 [==============================] - 1s 71ms/step - loss: 0.0129 - accuracy: 0.9932 - val_loss: 0.2572 - val_accuracy: 0.9455\n",
      "Epoch 92/100\n",
      "15/15 [==============================] - 1s 71ms/step - loss: 0.0457 - accuracy: 0.9797 - val_loss: 0.2646 - val_accuracy: 0.9455\n",
      "Epoch 93/100\n",
      "15/15 [==============================] - 1s 72ms/step - loss: 0.0382 - accuracy: 0.9932 - val_loss: 0.3259 - val_accuracy: 0.9273\n",
      "Epoch 94/100\n",
      "15/15 [==============================] - 1s 73ms/step - loss: 0.0827 - accuracy: 0.9932 - val_loss: 0.1541 - val_accuracy: 0.9636\n",
      "Epoch 95/100\n",
      "15/15 [==============================] - 1s 76ms/step - loss: 0.0411 - accuracy: 0.9932 - val_loss: 0.1451 - val_accuracy: 0.9636\n",
      "Epoch 96/100\n",
      "15/15 [==============================] - 1s 70ms/step - loss: 0.0300 - accuracy: 0.9865 - val_loss: 0.2705 - val_accuracy: 0.9273\n",
      "Epoch 97/100\n",
      "15/15 [==============================] - 1s 72ms/step - loss: 0.0204 - accuracy: 0.9865 - val_loss: 0.4009 - val_accuracy: 0.9182\n",
      "Epoch 98/100\n",
      "15/15 [==============================] - 1s 73ms/step - loss: 0.0626 - accuracy: 0.9795 - val_loss: 0.1802 - val_accuracy: 0.9455\n",
      "Epoch 99/100\n",
      "15/15 [==============================] - 1s 74ms/step - loss: 0.0854 - accuracy: 0.9865 - val_loss: 0.1983 - val_accuracy: 0.9364\n",
      "Epoch 100/100\n",
      "15/15 [==============================] - 1s 73ms/step - loss: 0.0371 - accuracy: 0.9932 - val_loss: 0.2788 - val_accuracy: 0.9455\n"
     ]
    }
   ],
   "source": [
    "hist=model.fit_generator(train_generator, steps_per_epoch=154//10, epochs=100, \n",
    "                    validation_data=test_generator, validation_steps=113//10)\n"
   ]
  },
  {
   "cell_type": "code",
   "execution_count": 64,
   "metadata": {},
   "outputs": [
    {
     "name": "stdout",
     "output_type": "stream",
     "text": [
      "4/4 [==============================] - 0s 19ms/step - loss: 0.2714 - accuracy: 0.9469\n",
      "\n",
      "Test accuracy:  0.9469026327133179\n"
     ]
    }
   ],
   "source": [
    "score = model.evaluate(test_x, test_y)\n",
    "print()\n",
    "print('Test accuracy: ', score[1])"
   ]
  },
  {
   "cell_type": "code",
   "execution_count": 12,
   "metadata": {},
   "outputs": [
    {
     "name": "stdout",
     "output_type": "stream",
     "text": [
      "WARNING:tensorflow:From <ipython-input-12-eff65c77bb0a>:1: Sequential.predict_classes (from tensorflow.python.keras.engine.sequential) is deprecated and will be removed after 2021-01-01.\n",
      "Instructions for updating:\n",
      "Please use instead:* `np.argmax(model.predict(x), axis=-1)`,   if your model does multi-class classification   (e.g. if it uses a `softmax` last-layer activation).* `(model.predict(x) > 0.5).astype(\"int32\")`,   if your model does binary classification   (e.g. if it uses a `sigmoid` last-layer activation).\n"
     ]
    }
   ],
   "source": [
    "predictions = model.predict_classes(X_test)\n",
    "\n",
    "predictions = list(predictions)\n",
    "actuals = list(Y_test)\n",
    "\n",
    "sub = pd.DataFrame({'Actual': actuals, 'Predictions': predictions})\n",
    "sub.to_csv('./output_cnn.csv', index=False)"
   ]
  },
  {
   "cell_type": "code",
   "execution_count": 65,
   "metadata": {},
   "outputs": [],
   "source": [
    "model.save(\"Newmodel2_train.h5\",hist)"
   ]
  },
  {
   "cell_type": "code",
   "execution_count": null,
   "metadata": {},
   "outputs": [],
   "source": []
  }
 ],
 "metadata": {
  "kernelspec": {
   "display_name": "Python 3",
   "language": "python",
   "name": "python3"
  },
  "language_info": {
   "codemirror_mode": {
    "name": "ipython",
    "version": 3
   },
   "file_extension": ".py",
   "mimetype": "text/x-python",
   "name": "python",
   "nbconvert_exporter": "python",
   "pygments_lexer": "ipython3",
   "version": "3.7.6"
  }
 },
 "nbformat": 4,
 "nbformat_minor": 4
}
